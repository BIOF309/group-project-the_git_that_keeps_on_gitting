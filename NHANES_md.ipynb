{
 "cells": [
  {
   "cell_type": "markdown",
   "metadata": {
    "slideshow": {
     "slide_type": "slide"
    }
   },
   "source": [
    "# Exploring Cancer Mortality Factors\n",
    "S. Han and C. Chung On\n",
    "\n"
   ]
  },
  {
   "cell_type": "markdown",
   "metadata": {
    "slideshow": {
     "slide_type": "slide"
    }
   },
   "source": [
    "# Acknowledgements\n",
    "The purpose of this project is to replicate Dr. Martin Skarzynski's capstone project, which was completed using R, using Python. The capstone project is titled \"Exploratory Analysis of Factors Associated with Cancer Mortality in the National Health and Nutrition Examination Survey Dataset,\" which was completed in partial fulfillment of Dr. Skarzynski's MPH degree from Johns Hopkins University School of Public Health.\n",
    "\n",
    "One major modification from Dr. Skarzynski's capstone is that in this project, the top 25 correlated predictor variables were chosen before inputing the data into a Cox Proportional Hazard Model.\n",
    "\n",
    "The capstone project, datasets used, and R codes can be found in the following link: https://github.com/marskar/nhanes."
   ]
  },
  {
   "cell_type": "markdown",
   "metadata": {
    "slideshow": {
     "slide_type": "slide"
    }
   },
   "source": [
    "## Background:\n",
    "The scale of cancer burden in the United States is huge with millions of new cancer cases a year. Susceptibility to cancer has been organized into modifiable and non-modifiable factors. Modifiable factors include body mass index (BMI) and cigarette use while non-modifiable factors include age, sex, and race/ethnicity. Modifiable cancers are responsible for a huge fraction of all cancer cases and cancer prevention interventions that target modifiable risk factors have been shown to be effective in reducing cancer cases and deaths. By using data science to map out cancer risk prediction models this could help pinpoint those at greatest risk for cancer. To do this a cancer risk prediction model much include both modifiable and non-modifiable risk factors. We started by analyzing data from the Third National Health and Nutrition Examination Survey (NHANES III) and the National Death Index (NDI) Public-Use Linked Mortality Files. The goal of our analysis was to examine the NHANES III data and identify variables useful for prediction of mortality risk in python. \n"
   ]
  },
  {
   "cell_type": "markdown",
   "metadata": {
    "slideshow": {
     "slide_type": "slide"
    }
   },
   "source": [
    "## Methods:\n",
    "The Third National Health and Nutrition Examination Survey (NHANES III) consisted of interview, medical examination, and laboratory data sets. This data was collected from 1988 to 1994 in the United States. NHANES III was linked with mortality data from the NDI death records by the National Center for Health Statistics. \n",
    "\n",
    "The exclusion factors included participants who: \n",
    "1. were under 18 years of age, \n",
    "2. had a self-reported cancer at baseline, and \n",
    "3. had missing values for variables related for the study.\n",
    "\n",
    "In this study, the model used to relate the time that passed (before cancer death occurred) to risk factors was the Cox proportional hazard model. Specifically, the follow-up time variable (XXX) and cancer death were used as the survival outcome in the regression analysis. \n",
    "\n",
    "Using Python's **pandas**, we: \n",
    "1. Read the csv datasets into dataframes (i.e., adult, lab, exam, mort).\n",
    "2. Removed all participant identifiers (SEQN) with missing causes of death (UCOD_LEADING) or missing follow-up time from interview (PERMTH_INT). \n",
    "3. Created a cancer mortality variable based on whether \"Malignant neoplasms\" (C00-C97) was recorded as the cause of death. \n",
    "4. Merged all datasets using the participant identifier variables (SEQN).\n",
    "5. Removed baseline cancer cases using the HAC1N and HAC10 variables.\n",
    "6. Removed participants with missing relevant variables (SDDPSU6, SDSTRA6, and WtPFQX6) and variables with a time outside the date of interview (i.e., PERMTH_EXM).\n",
    "\n",
    "Using Python's **Scikit-Learn**, we:\n",
    "1. Removed highly correlated variables (r≥0.9).\n",
    "2. Chose the 25 most correlated predictor variables (i.e., the predictor variables with the highest r^2 values).  \n",
    "\n",
    "Using Python's **Lifelines**, we applied the Cox Proportional Hazards Model to the 25 predictor variables mentioned above. \n",
    "> In addition to the 25 selected predictor variables the model also included:\n",
    "1. A \"survival object\" created from the \"cancer mortality\" event and follow-up time variables.\n",
    "2. A \"design object\" created from the \"primary sampling unit\" (SDDPSU6), \"Stratification\" (SDSTRA6), and \"Weight\" (WTPFQX6) variables. \n",
    "\n",
    "Using Python's **Plotly**, the Cox Proportional Hazard model was represented in the form of a volcano plot. \n"
   ]
  },
  {
   "cell_type": "markdown",
   "metadata": {
    "slideshow": {
     "slide_type": "slide"
    }
   },
   "source": [
    "\n",
    "## Results:\n"
   ]
  },
  {
   "cell_type": "markdown",
   "metadata": {
    "slideshow": {
     "slide_type": "slide"
    }
   },
   "source": [
    "## Discussion:\n"
   ]
  },
  {
   "cell_type": "markdown",
   "metadata": {
    "slideshow": {
     "slide_type": "slide"
    }
   },
   "source": [
    "## Future Directions: \n"
   ]
  },
  {
   "cell_type": "markdown",
   "metadata": {
    "slideshow": {
     "slide_type": "slide"
    }
   },
   "source": [
    "## References: "
   ]
  },
  {
   "cell_type": "code",
   "execution_count": null,
   "metadata": {},
   "outputs": [],
   "source": []
  }
 ],
 "metadata": {
  "celltoolbar": "Slideshow",
  "kernelspec": {
   "display_name": "Python 3",
   "language": "python",
   "name": "python3"
  },
  "language_info": {
   "codemirror_mode": {
    "name": "ipython",
    "version": 3
   },
   "file_extension": ".py",
   "mimetype": "text/x-python",
   "name": "python",
   "nbconvert_exporter": "python",
   "pygments_lexer": "ipython3",
   "version": "3.7.0"
  }
 },
 "nbformat": 4,
 "nbformat_minor": 2
}
