{
 "cells": [
  {
   "cell_type": "markdown",
   "metadata": {
    "slideshow": {
     "slide_type": "slide"
    }
   },
   "source": [
    "# Exploring Cancer Mortality Factors\n",
    "S. Han and C. Chung On"
   ]
  },
  {
   "cell_type": "markdown",
   "metadata": {
    "slideshow": {
     "slide_type": "slide"
    }
   },
   "source": [
    "# Acknowledgements\n",
    "The purpose of this project is to replicate Dr. Martin Skarzynski's capstone project, which was completed using R, using Python. The capstone project is titled \"Exploratory Analysis of Factors Associated with Cancer Mortality in the National Health and Nutrition Examination Survey Dataset,\" which was completed in partial fulfillment of Dr. Skarzynski's MPH degree from Johns Hopkins University School of Public Health.\n",
    "\n",
    "One major modification from Dr. Skarzynski's capstone is that in this project, 50 potential predictor variables were chosen before inputing the data into a Cox Proportional Hazard Model instead of running thousands of hazard models. \n",
    "\n",
    "The capstone project, datasets used, and R codes can be found in the following link: https://github.com/marskar/nhanes."
   ]
  },
  {
   "cell_type": "markdown",
   "metadata": {},
   "source": [
    "## Background:\n",
    "Although cancer mortality has been declining in the U.S., cancer is still the second leading cause of death. Susceptibility to cancer can be divided into modifiable and non-modifiable risk factors. Modifiable factors include body mass index (BMI) and cigarette use while non-modifiable factors include age, sex, and race/ethnicity. Data science methods can be utilized to run cancer risk prediction models, which can help find the factors most associated with cancer mortality risk. In this study, we used Python to \n",
    "\n",
    " We started by analyzing data from the Third National Health and Nutrition Examination Survey (NHANES III) and the National Death Index (NDI) Public-Use Linked Mortality Files. The goal of our analysis was to examine the NHANES III data and identify variables useful for prediction of mortality risk in python. "
   ]
  }
 ],
 "metadata": {
  "celltoolbar": "Slideshow",
  "kernelspec": {
   "display_name": "Python 3",
   "language": "python",
   "name": "python3"
  },
  "language_info": {
   "codemirror_mode": {
    "name": "ipython",
    "version": 3
   },
   "file_extension": ".py",
   "mimetype": "text/x-python",
   "name": "python",
   "nbconvert_exporter": "python",
   "pygments_lexer": "ipython3",
   "version": "3.7.0"
  }
 },
 "nbformat": 4,
 "nbformat_minor": 2
}
