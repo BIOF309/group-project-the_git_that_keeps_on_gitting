{
 "cells": [
  {
   "cell_type": "markdown",
   "metadata": {
    "slideshow": {
     "slide_type": "slide"
    }
   },
   "source": [
    "# Exploring Cancer Mortality Factors\n",
    "S. Han and C. Chung On"
   ]
  },
  {
   "cell_type": "markdown",
   "metadata": {
    "slideshow": {
     "slide_type": "slide"
    }
   },
   "source": [
    "# Acknowledgements\n",
    "The purpose of this project is to replicate Dr. Martin Skarzynski's capstone project, which was completed using R, using Python. The capstone project is titled \"Exploratory Analysis of Factors Associated with Cancer Mortality in the National Health and Nutrition Examination Survey Dataset,\" which was completed in partial fulfillment of Dr. Skarzynski's MPH degree from Johns Hopkins University School of Public Health.\n",
    "\n",
    "One major modification from Dr. Skarzynski's capstone is that in this project, 50 potential predictor variables were chosen before inputing the data into a Cox Proportional Hazard Model instead of running thousands of hazard models. \n",
    "\n",
    "The capstone project, datasets used, and R codes can be found in the following link: https://github.com/marskar/nhanes."
   ]
  },
  {
   "cell_type": "markdown",
   "metadata": {
    "slideshow": {
     "slide_type": "slide"
    }
   },
   "source": [
    "## Background:\n",
    "Although cancer mortality has been declining in the U.S., cancer is still the second leading cause of death. Susceptibility to cancer can be divided into modifiable and non-modifiable risk factors. Modifiable factors include body mass index (BMI) and cigarette use while non-modifiable factors include age, sex, and race/ethnicity. Data science methods can be utilized to run cancer risk prediction models, which can help find the factors most associated with cancer mortality risk. In this study, we used Python to analyze data from the Third National Health and Nutrition Examination Survey (NHANES III) and the National Death Index (NDI) Public-Use Linked Mortality Files. The goal of our analysis was to examine these datasets to identify variables associated with cancer mortality risk. "
   ]
  },
  {
   "cell_type": "markdown",
   "metadata": {
    "slideshow": {
     "slide_type": "slide"
    }
   },
   "source": [
    "## Methods: \n",
    "NHANES III consisted of interview, medical examination, and laboratory data sets. This data was collected from 1988 to 1994 in the United States. NHANES III was linked with mortality data from the NDI death records by the National Center for Health Statistics. "
   ]
  },
  {
   "cell_type": "markdown",
   "metadata": {
    "slideshow": {
     "slide_type": "slide"
    }
   },
   "source": [
    "### Methods Step 1: \n",
    "Read NHANES III and NDI datasets into pandas dataframes: (4 in total, labeled as: mort, lab, adult, and exam)\n",
    "\n",
    "Note: When reading in csv files as pandas dataframes, python replaces blank cells (in csv) as blank strings of variable number of spaces (in dataframe). In order for python to convert all empty cells to NaN, we had to include the function 'skipinitialspace=True'. "
   ]
  },
  {
   "cell_type": "code",
   "execution_count": 79,
   "metadata": {
    "slideshow": {
     "slide_type": "skip"
    }
   },
   "outputs": [],
   "source": [
    "import pandas as pd\n",
    "from functools import reduce\n",
    "import numpy as np\n",
    "import seaborn as sns\n",
    "import matplotlib.pyplot as plt\n",
    "from sklearn.preprocessing import LabelEncoder, OneHotEncoder\n",
    "import statsmodels.formula.api as smf\n"
   ]
  },
  {
   "cell_type": "code",
   "execution_count": 39,
   "metadata": {
    "slideshow": {
     "slide_type": "subslide"
    }
   },
   "outputs": [],
   "source": [
    "mort = pd.read_csv(r'C:\\Users\\hans11\\Desktop\\python_project\\mort.csv', skipinitialspace=True)\n",
    "lab = pd.read_csv(r'C:\\Users\\hans11\\Desktop\\python_project\\lab.csv', skipinitialspace=True)\n",
    "adult = pd.read_csv(r'C:\\Users\\hans11\\Desktop\\python_project\\adult.csv', skipinitialspace=True, low_memory=False)\n",
    "exam = pd.read_csv(r'C:\\Users\\hans11\\Desktop\\python_project\\exam.csv', skipinitialspace=True, low_memory=False)"
   ]
  },
  {
   "cell_type": "code",
   "execution_count": 40,
   "metadata": {},
   "outputs": [
    {
     "name": "stdout",
     "output_type": "stream",
     "text": [
      "<class 'pandas.core.frame.DataFrame'>\n",
      "RangeIndex: 33994 entries, 0 to 33993\n",
      "Data columns (total 14 columns):\n",
      "SEQN            33994 non-null int64\n",
      "ELIGSTAT        33994 non-null object\n",
      "MORTSTAT        33994 non-null object\n",
      "CAUSEAVL        33994 non-null object\n",
      "UCOD_LEADING    33994 non-null object\n",
      "DIABETES        33994 non-null object\n",
      "HYPERTEN        33994 non-null object\n",
      "PERMTH_INT      19592 non-null float64\n",
      "PERMTH_EXM      17738 non-null float64\n",
      "MORTSRCE_NDI    6596 non-null object\n",
      "MORTSRCE_CMS    3102 non-null object\n",
      "MORTSRCE_SSA    5497 non-null object\n",
      "MORTSRCE_DC     2492 non-null object\n",
      "MORTSRCE_DCL    0 non-null float64\n",
      "dtypes: float64(3), int64(1), object(10)\n",
      "memory usage: 3.6+ MB\n"
     ]
    }
   ],
   "source": [
    "mort.info()"
   ]
  },
  {
   "cell_type": "markdown",
   "metadata": {
    "slideshow": {
     "slide_type": "slide"
    }
   },
   "source": [
    "### Methods Step 2: \n",
    "Clean NDI dataset (mort):\n",
    "\n",
    "    1) Only keep variables that are needed for study (i.e., SEQN, UCOD_LEADING, PERMTH_INT)\n",
    "            * SEQN = unique identifier \n",
    "            * UCOD_LEADING = underlying cause of death recode from UCOD_113 (Leading causes)\n",
    "            * PERMTH_INT = person months of follow-up from interview date \n",
    "    2) Remove entries with missing UCOD_LEADING or PERMTH_INT variables\n",
    "    3) Create cancer mortality variable (cancer_mort) based on whether 'malignant neoplasms (COO-C97)'\n",
    "    was recorded as cause of death (UCOD_LEADING) \n",
    "    4) Remove UCOD_LEADING from clean_mort dataframe (dataframe should not only have numerical data types) "
   ]
  },
  {
   "cell_type": "code",
   "execution_count": 41,
   "metadata": {
    "slideshow": {
     "slide_type": "subslide"
    }
   },
   "outputs": [
    {
     "name": "stdout",
     "output_type": "stream",
     "text": [
      "<class 'pandas.core.frame.DataFrame'>\n",
      "RangeIndex: 33994 entries, 0 to 33993\n",
      "Data columns (total 3 columns):\n",
      "SEQN            33994 non-null int64\n",
      "UCOD_LEADING    33994 non-null object\n",
      "PERMTH_INT      19592 non-null float64\n",
      "dtypes: float64(1), int64(1), object(1)\n",
      "memory usage: 796.8+ KB\n"
     ]
    }
   ],
   "source": [
    "#1\n",
    "\n",
    "mort_clean = mort[['SEQN', 'UCOD_LEADING', 'PERMTH_INT']]\n",
    "mort_clean.info()\n",
    "\n",
    "#33,994 entries; 3 columns"
   ]
  },
  {
   "cell_type": "code",
   "execution_count": 42,
   "metadata": {
    "slideshow": {
     "slide_type": "subslide"
    }
   },
   "outputs": [
    {
     "name": "stdout",
     "output_type": "stream",
     "text": [
      "<class 'pandas.core.frame.DataFrame'>\n",
      "Int64Index: 19592 entries, 0 to 33990\n",
      "Data columns (total 3 columns):\n",
      "SEQN            19592 non-null int64\n",
      "UCOD_LEADING    19592 non-null object\n",
      "PERMTH_INT      19592 non-null float64\n",
      "dtypes: float64(1), int64(1), object(1)\n",
      "memory usage: 612.2+ KB\n"
     ]
    }
   ],
   "source": [
    "#2: \n",
    "\n",
    "mort_clean = mort_clean[(mort_clean.UCOD_LEADING.notnull() & mort_clean.PERMTH_INT.notnull())]\n",
    "mort_clean.info()\n",
    "\n",
    "# 19,592 entries; 3 columns"
   ]
  },
  {
   "cell_type": "code",
   "execution_count": 43,
   "metadata": {
    "slideshow": {
     "slide_type": "subslide"
    }
   },
   "outputs": [
    {
     "name": "stdout",
     "output_type": "stream",
     "text": [
      "<class 'pandas.core.frame.DataFrame'>\n",
      "Int64Index: 19592 entries, 0 to 33990\n",
      "Data columns (total 4 columns):\n",
      "SEQN            19592 non-null int64\n",
      "UCOD_LEADING    19592 non-null object\n",
      "PERMTH_INT      19592 non-null float64\n",
      "cancer_mort     19592 non-null int64\n",
      "dtypes: float64(1), int64(2), object(1)\n",
      "memory usage: 765.3+ KB\n"
     ]
    }
   ],
   "source": [
    "#3: create cancer_mort variable\n",
    "\n",
    "def cancer_mort(mort_clean): \n",
    "    if mort_clean['UCOD_LEADING'] == 'Malignant neoplasms (C00-C97)':\n",
    "        return 1\n",
    "    else:\n",
    "        return 0\n",
    "mort_clean['cancer_mort'] = mort_clean.apply(cancer_mort, axis=1)\n",
    "\n",
    "mort_clean.info()"
   ]
  },
  {
   "cell_type": "code",
   "execution_count": 44,
   "metadata": {
    "slideshow": {
     "slide_type": "subslide"
    }
   },
   "outputs": [
    {
     "name": "stdout",
     "output_type": "stream",
     "text": [
      "<class 'pandas.core.frame.DataFrame'>\n",
      "Int64Index: 19592 entries, 0 to 33990\n",
      "Data columns (total 3 columns):\n",
      "SEQN           19592 non-null int64\n",
      "PERMTH_INT     19592 non-null float64\n",
      "cancer_mort    19592 non-null int64\n",
      "dtypes: float64(1), int64(2)\n",
      "memory usage: 612.2 KB\n"
     ]
    }
   ],
   "source": [
    "#4: remove UCOD_LEADING\n",
    "mort_clean = mort_clean.drop('UCOD_LEADING', axis=1)\n",
    "mort_clean.info()\n",
    "\n",
    "# 19,592 entries; 3 columns"
   ]
  },
  {
   "cell_type": "markdown",
   "metadata": {
    "slideshow": {
     "slide_type": "slide"
    }
   },
   "source": [
    "### Methods Step 3:\n",
    "Merge 4 dataframes together (df_merged) using SEQN"
   ]
  },
  {
   "cell_type": "code",
   "execution_count": 50,
   "metadata": {
    "slideshow": {
     "slide_type": "subslide"
    }
   },
   "outputs": [
    {
     "name": "stdout",
     "output_type": "stream",
     "text": [
      "<class 'pandas.core.frame.DataFrame'>\n",
      "Int64Index: 17738 entries, 0 to 17737\n",
      "Columns: 3962 entries, SEQN to PFPTECH\n",
      "dtypes: float64(3644), int64(303), object(15)\n",
      "memory usage: 536.3+ MB\n"
     ]
    }
   ],
   "source": [
    "dfs = [mort_clean, lab, adult, exam]\n",
    "df_merged = reduce(lambda left,right: pd.merge(left,right,on='SEQN'), dfs)\n",
    "df_merged.info()\n",
    "\n",
    "# df_merged = 17,738 entries; 3,962 columns "
   ]
  },
  {
   "cell_type": "markdown",
   "metadata": {
    "slideshow": {
     "slide_type": "slide"
    }
   },
   "source": [
    "#### Error: when dataframes were merged, duplicate variables were appended with _x or _y\n",
    "    * Solution: Delete variables appended with _x or _y "
   ]
  },
  {
   "cell_type": "code",
   "execution_count": 52,
   "metadata": {
    "slideshow": {
     "slide_type": "subslide"
    }
   },
   "outputs": [
    {
     "name": "stdout",
     "output_type": "stream",
     "text": [
      "<class 'pandas.core.frame.DataFrame'>\n",
      "Int64Index: 17738 entries, 0 to 17737\n",
      "Columns: 3800 entries, SEQN to PFPTECH\n",
      "dtypes: float64(3498), int64(287), object(15)\n",
      "memory usage: 514.4+ MB\n"
     ]
    }
   ],
   "source": [
    "# removing columns that have _x in name\n",
    "\n",
    "df_merged2 = df_merged.drop([col for col in df_merged.columns if '_x' in col], axis=1)\n",
    "df_merged2.info()\n",
    "\n",
    "# 17,738 entries; 3,800 columns"
   ]
  },
  {
   "cell_type": "code",
   "execution_count": 53,
   "metadata": {
    "slideshow": {
     "slide_type": "subslide"
    }
   },
   "outputs": [
    {
     "name": "stdout",
     "output_type": "stream",
     "text": [
      "<class 'pandas.core.frame.DataFrame'>\n",
      "Int64Index: 17738 entries, 0 to 17737\n",
      "Columns: 3638 entries, SEQN to PFPTECH\n",
      "dtypes: float64(3352), int64(271), object(15)\n",
      "memory usage: 492.5+ MB\n"
     ]
    }
   ],
   "source": [
    "# removing columns that have _y in name\n",
    "\n",
    "df_merged3 = df_merged2.drop([col for col in df_merged2.columns if '_y' in col], axis=1)\n",
    "df_merged3.info()\n",
    "\n",
    "# 17,738 entries; 3,638 columns"
   ]
  },
  {
   "cell_type": "markdown",
   "metadata": {
    "slideshow": {
     "slide_type": "slide"
    }
   },
   "source": [
    "### Methods Step 4: Exclusion Criteria\n",
    "The exclusion factors included participants who: \n",
    "\n",
    "    1) were under 18 years of age \n",
    "    2) had a self-reported cancer at baseline, and \n",
    "    3) had missing values for variables related to the study"
   ]
  },
  {
   "cell_type": "code",
   "execution_count": 54,
   "metadata": {
    "slideshow": {
     "slide_type": "subslide"
    }
   },
   "outputs": [
    {
     "data": {
      "text/plain": [
       "count    17738.000000\n",
       "mean        47.560886\n",
       "std         20.221005\n",
       "min         18.000000\n",
       "25%         30.000000\n",
       "50%         44.000000\n",
       "75%         65.000000\n",
       "max         90.000000\n",
       "Name: HSAGEIR, dtype: float64"
      ]
     },
     "execution_count": 54,
     "metadata": {},
     "output_type": "execute_result"
    }
   ],
   "source": [
    "# Exclusion Crtieria #1: \n",
    "    # HSAGEIR = age at interview\n",
    "    \n",
    "df_merged3.HSAGEIR.describe()\n",
    "# Age range = 18-90 "
   ]
  },
  {
   "cell_type": "code",
   "execution_count": 55,
   "metadata": {
    "slideshow": {
     "slide_type": "subslide"
    }
   },
   "outputs": [
    {
     "name": "stdout",
     "output_type": "stream",
     "text": [
      "<class 'pandas.core.frame.DataFrame'>\n",
      "Int64Index: 16404 entries, 0 to 17737\n",
      "Columns: 3638 entries, SEQN to PFPTECH\n",
      "dtypes: float64(3352), int64(271), object(15)\n",
      "memory usage: 455.4+ MB\n"
     ]
    }
   ],
   "source": [
    "\"\"\" Exclusion Criteria #2: \n",
    "    HAC1N = 'doctor ever told you had: skin cancer'\n",
    "    HAC1O = 'doctor ever told you had: other cancer'\n",
    "        1 = Yes\n",
    "        2 = No\n",
    "        9 = Don't know\n",
    "    Only keep those who answered 2 for HAC1N or HAC1O \"\"\" \n",
    "\n",
    "df_merged4 = df_merged3[(df_merged3.HAC1N == 2) & (df_merged3.HAC1O == 2)]\n",
    "df_merged4.info()\n",
    "#df_merged = 16,404 entries; 3,638 columns"
   ]
  },
  {
   "cell_type": "code",
   "execution_count": 56,
   "metadata": {
    "slideshow": {
     "slide_type": "skip"
    }
   },
   "outputs": [
    {
     "data": {
      "text/plain": [
       "['PHPSNTI',\n",
       " 'PHPDRTI',\n",
       " 'PHPBEST',\n",
       " 'HAJ12',\n",
       " 'HAX18A',\n",
       " 'HAX18B',\n",
       " 'HAX18C',\n",
       " 'HAZA1CC',\n",
       " 'DEPSTLC1',\n",
       " 'DEPSTLC2',\n",
       " 'DEPSTLC3',\n",
       " 'DEPSTLC4',\n",
       " 'DEPSTLC5',\n",
       " 'DEPSTLC6',\n",
       " 'SPPTIME']"
      ]
     },
     "execution_count": 56,
     "metadata": {},
     "output_type": "execute_result"
    }
   ],
   "source": [
    "# Exclusion Criteria #3: \n",
    "    # 15 variables with object type\n",
    "\n",
    "object_list = list(df_merged4.select_dtypes(include=['object']).columns)\n",
    "object_list"
   ]
  },
  {
   "cell_type": "code",
   "execution_count": 57,
   "metadata": {
    "slideshow": {
     "slide_type": "subslide"
    }
   },
   "outputs": [
    {
     "name": "stdout",
     "output_type": "stream",
     "text": [
      "<class 'pandas.core.frame.DataFrame'>\n",
      "Int64Index: 16404 entries, 0 to 17737\n",
      "Columns: 3623 entries, SEQN to PFPTECH\n",
      "dtypes: float64(3352), int64(271)\n",
      "memory usage: 453.6 MB\n"
     ]
    }
   ],
   "source": [
    "# all 15 variables that are object type are not necessary for study purposes\n",
    "# delete these 15 variables from dataframe (df_merged)\n",
    "\n",
    "df_merged5 = df_merged4.drop(['PHPSNTI','PHPDRTI','PHPBEST','HAJ12','HAX18A','HAX18B','HAX18C',\n",
    "                             'HAZA1CC','DEPSTLC1','DEPSTLC2','DEPSTLC3','DEPSTLC4','DEPSTLC5',\n",
    "                             'DEPSTLC6','SPPTIME'], axis=1)\n",
    "df_merged5.info()\n",
    "# 16,404 entries; 3,623 columns, all floats or ints"
   ]
  },
  {
   "cell_type": "code",
   "execution_count": 58,
   "metadata": {
    "slideshow": {
     "slide_type": "skip"
    }
   },
   "outputs": [
    {
     "data": {
      "text/html": [
       "<div>\n",
       "<style scoped>\n",
       "    .dataframe tbody tr th:only-of-type {\n",
       "        vertical-align: middle;\n",
       "    }\n",
       "\n",
       "    .dataframe tbody tr th {\n",
       "        vertical-align: top;\n",
       "    }\n",
       "\n",
       "    .dataframe thead th {\n",
       "        text-align: right;\n",
       "    }\n",
       "</style>\n",
       "<table border=\"1\" class=\"dataframe\">\n",
       "  <thead>\n",
       "    <tr style=\"text-align: right;\">\n",
       "      <th>col_0</th>\n",
       "      <th>count</th>\n",
       "    </tr>\n",
       "    <tr>\n",
       "      <th>cancer_mort</th>\n",
       "      <th></th>\n",
       "    </tr>\n",
       "  </thead>\n",
       "  <tbody>\n",
       "    <tr>\n",
       "      <th>0</th>\n",
       "      <td>15440</td>\n",
       "    </tr>\n",
       "    <tr>\n",
       "      <th>1</th>\n",
       "      <td>964</td>\n",
       "    </tr>\n",
       "  </tbody>\n",
       "</table>\n",
       "</div>"
      ],
      "text/plain": [
       "col_0        count\n",
       "cancer_mort       \n",
       "0            15440\n",
       "1              964"
      ]
     },
     "execution_count": 58,
     "metadata": {},
     "output_type": "execute_result"
    }
   ],
   "source": [
    "# Frequency table (crosstabs) using pandas pd.crosstab() function\n",
    "# For cancer_mort outcome\n",
    "\n",
    "cancer_mort_freq = pd.crosstab(index=df_merged5['cancer_mort'],\n",
    "                              columns = 'count')\n",
    "cancer_mort_freq\n",
    "\n",
    "# 964 cancer deaths; 15,440 other deaths"
   ]
  },
  {
   "cell_type": "markdown",
   "metadata": {
    "slideshow": {
     "slide_type": "slide"
    }
   },
   "source": [
    "### Methods Step 5: Cleaning Dataset\n",
    "\n",
    "    1. Remove variables with only one unique value\n",
    "    2. Remove variables with more than 90% missing values (NaN)\n",
    "    3. Remove variables that start with 'WTPQRP' (Fay's BRR Replicate weight for MEC-examined sample)\n",
    " "
   ]
  },
  {
   "cell_type": "code",
   "execution_count": 59,
   "metadata": {
    "slideshow": {
     "slide_type": "subslide"
    }
   },
   "outputs": [
    {
     "name": "stdout",
     "output_type": "stream",
     "text": [
      "<class 'pandas.core.frame.DataFrame'>\n",
      "Int64Index: 16404 entries, 0 to 17737\n",
      "Columns: 3089 entries, SEQN to PFPTECH\n",
      "dtypes: float64(2822), int64(267)\n",
      "memory usage: 386.7 MB\n"
     ]
    }
   ],
   "source": [
    "#1: remove variables with only one unique value: \n",
    "\n",
    "for col in df_merged5.columns:\n",
    "    if len(df_merged5[col].unique()) == 1: \n",
    "        df_merged5.drop(col, inplace=True, axis=1)\n",
    "        \n",
    "df_merged5.info()\n",
    "\n",
    "# 16,404 entries; 3,089 columns"
   ]
  },
  {
   "cell_type": "code",
   "execution_count": 60,
   "metadata": {
    "slideshow": {
     "slide_type": "subslide"
    }
   },
   "outputs": [
    {
     "name": "stdout",
     "output_type": "stream",
     "text": [
      "<class 'pandas.core.frame.DataFrame'>\n",
      "Int64Index: 16404 entries, 0 to 17737\n",
      "Columns: 901 entries, SEQN to BDPD0\n",
      "dtypes: float64(634), int64(267)\n",
      "memory usage: 112.9 MB\n"
     ]
    }
   ],
   "source": [
    "#2: select columns with more than 90% missing values (NaN) and delete: \n",
    "\n",
    "limitPer = len(df_merged5) * 0.90\n",
    "df_merged6 = df_merged5.dropna(thresh=limitPer, axis=1)\n",
    "\n",
    "df_merged6.info()\n",
    "\n",
    "# 16,404 entries; 901 columns "
   ]
  },
  {
   "cell_type": "code",
   "execution_count": 61,
   "metadata": {
    "slideshow": {
     "slide_type": "subslide"
    }
   },
   "outputs": [
    {
     "name": "stdout",
     "output_type": "stream",
     "text": [
      "<class 'pandas.core.frame.DataFrame'>\n",
      "Int64Index: 16404 entries, 0 to 17737\n",
      "Columns: 849 entries, SEQN to BDPD0\n",
      "dtypes: float64(582), int64(267)\n",
      "memory usage: 106.4 MB\n"
     ]
    }
   ],
   "source": [
    "#3: delete columns that start with 'WTPQRP'\n",
    "    # 'WTPQRP1 - WTPQRP52' = Fay's BRR Replicate weights for MEC- examined sample\n",
    "    \n",
    "for col in df_merged6.columns:\n",
    "    if 'WTPQRP' in col:\n",
    "        del df_merged6[col]\n",
    "\n",
    "df_merged6.info()\n",
    "\n",
    "# 16,404 entries; 849 columns "
   ]
  },
  {
   "cell_type": "markdown",
   "metadata": {
    "slideshow": {
     "slide_type": "slide"
    }
   },
   "source": [
    "### Methods Step 6: Finish cleaning dataset\n",
    "\n",
    "    1) Calculate correlation (create correlation heat-map)\n",
    "    2) Compare correlation between variables and remove those that have a correlation higher than 0.9\n",
    "    3) Remove observations with missing value (NaN) in any of the columns "
   ]
  },
  {
   "cell_type": "code",
   "execution_count": 62,
   "metadata": {
    "slideshow": {
     "slide_type": "subslide"
    }
   },
   "outputs": [
    {
     "data": {
      "text/plain": [
       "<matplotlib.axes._subplots.AxesSubplot at 0x1751a30e7f0>"
      ]
     },
     "execution_count": 62,
     "metadata": {},
     "output_type": "execute_result"
    },
    {
     "data": {
      "image/png": "[encoded data removed]",
      "text/plain": [
       "<Figure size 432x288 with 2 Axes>"
      ]
     },
     "metadata": {
      "needs_background": "light"
     },
     "output_type": "display_data"
    }
   ],
   "source": [
    "#1: generating correlation heat-map:\n",
    "\n",
    "corr = df_merged6.corr()\n",
    "sns.heatmap(corr) "
   ]
  },
  {
   "cell_type": "code",
   "execution_count": 63,
   "metadata": {
    "slideshow": {
     "slide_type": "subslide"
    }
   },
   "outputs": [
    {
     "name": "stdout",
     "output_type": "stream",
     "text": [
      "<class 'pandas.core.frame.DataFrame'>\n",
      "Int64Index: 16404 entries, 0 to 17737\n",
      "Columns: 450 entries, SEQN to BDPSCAN\n",
      "dtypes: float64(200), int64(250)\n",
      "memory usage: 56.4 MB\n"
     ]
    }
   ],
   "source": [
    "#2: compare correlation and remove those with correlation higher than 0.9\n",
    "\n",
    "columns = np.full((corr.shape[0]), True, dtype=bool)\n",
    "for i in range(corr.shape[0]):\n",
    "    for j in range(i+1, corr.shape[0]):\n",
    "        if corr.iloc[i,j] >= 0.9:\n",
    "            if columns[j]:\n",
    "                columns[j] = False\n",
    "\n",
    "selected_columns = df_merged6.columns[columns]\n",
    "df_merged7 = df_merged6[selected_columns]\n",
    "\n",
    "df_merged7.info()\n",
    "\n",
    "# 16,404 entries; 450 columns "
   ]
  },
  {
   "cell_type": "code",
   "execution_count": 89,
   "metadata": {
    "slideshow": {
     "slide_type": "subslide"
    }
   },
   "outputs": [
    {
     "name": "stdout",
     "output_type": "stream",
     "text": [
      "<class 'pandas.core.frame.DataFrame'>\n",
      "Int64Index: 10242 entries, 0 to 17736\n",
      "Columns: 450 entries, SEQN to BDPSCAN\n",
      "dtypes: float64(200), int64(250)\n",
      "memory usage: 35.2 MB\n"
     ]
    }
   ],
   "source": [
    "#3: delete entries with missing value (NaN) in any of the columns\n",
    "# make all variables numeric type\n",
    "\n",
    "df_merged8 = df_merged7.dropna(axis=0, how='any', thresh=None, subset=None, inplace=False)\n",
    "df_merged8.apply(pd.to_numeric)\n",
    "df_merged8.isna().sum().sum()\n",
    "df_merged8.info()\n",
    "\n",
    "# 10,242 entries; 450 columns"
   ]
  },
  {
   "cell_type": "markdown",
   "metadata": {},
   "source": [
    "### Final Dataset: \n",
    "\n",
    "    1. 450 variables (includes SEQN, PERMTH_INT, and cancer_mort)\n",
    "         a. All variables are either floats or integers\n",
    "    2. 10,242 participants \n",
    "         a. 600 (59%) participants with a NDI file that indicated cancer as the leading cause of death\n",
    "         b. Mean age: 44.7 yeas "
   ]
  },
  {
   "cell_type": "code",
   "execution_count": 66,
   "metadata": {
    "slideshow": {
     "slide_type": "subslide"
    }
   },
   "outputs": [
    {
     "data": {
      "text/html": [
       "<div>\n",
       "<style scoped>\n",
       "    .dataframe tbody tr th:only-of-type {\n",
       "        vertical-align: middle;\n",
       "    }\n",
       "\n",
       "    .dataframe tbody tr th {\n",
       "        vertical-align: top;\n",
       "    }\n",
       "\n",
       "    .dataframe thead th {\n",
       "        text-align: right;\n",
       "    }\n",
       "</style>\n",
       "<table border=\"1\" class=\"dataframe\">\n",
       "  <thead>\n",
       "    <tr style=\"text-align: right;\">\n",
       "      <th>col_0</th>\n",
       "      <th>count</th>\n",
       "    </tr>\n",
       "    <tr>\n",
       "      <th>cancer_mort</th>\n",
       "      <th></th>\n",
       "    </tr>\n",
       "  </thead>\n",
       "  <tbody>\n",
       "    <tr>\n",
       "      <th>0</th>\n",
       "      <td>9642</td>\n",
       "    </tr>\n",
       "    <tr>\n",
       "      <th>1</th>\n",
       "      <td>600</td>\n",
       "    </tr>\n",
       "  </tbody>\n",
       "</table>\n",
       "</div>"
      ],
      "text/plain": [
       "col_0        count\n",
       "cancer_mort       \n",
       "0             9642\n",
       "1              600"
      ]
     },
     "execution_count": 66,
     "metadata": {},
     "output_type": "execute_result"
    }
   ],
   "source": [
    "# final cancer_mort count after going through exclusion criteria\n",
    "\n",
    "cancer_mort_freq = pd.crosstab(index=df_merged8['cancer_mort'],\n",
    "                              columns = 'count')\n",
    "cancer_mort_freq"
   ]
  },
  {
   "cell_type": "code",
   "execution_count": 151,
   "metadata": {
    "slideshow": {
     "slide_type": "subslide"
    }
   },
   "outputs": [
    {
     "name": "stdout",
     "output_type": "stream",
     "text": [
      "<class 'pandas.core.frame.DataFrame'>\n",
      "Int64Index: 10242 entries, 0 to 17736\n",
      "Columns: 450 entries, SEQN to BDPSCAN\n",
      "dtypes: float64(200), int64(250)\n",
      "memory usage: 35.2 MB\n"
     ]
    },
    {
     "data": {
      "text/plain": [
       "44.745752782659636"
      ]
     },
     "execution_count": 151,
     "metadata": {},
     "output_type": "execute_result"
    }
   ],
   "source": [
    "# Final dataset info: \n",
    "\n",
    "df_merged8.info()\n",
    "df_merged8.HSAGEIR.mean()"
   ]
  },
  {
   "cell_type": "code",
   "execution_count": 74,
   "metadata": {
    "slideshow": {
     "slide_type": "skip"
    }
   },
   "outputs": [],
   "source": [
    "# move cancer_mort column to end \n",
    "\n",
    "cols = list(df_merged8.columns.values)\n",
    "cols.pop(cols.index('cancer_mort')) # remove cancer_mort from list\n",
    "df_merged9 = df_merged8[cols + ['cancer_mort']] # create new dataframe with cancer_mort at the end"
   ]
  },
  {
   "cell_type": "code",
   "execution_count": 86,
   "metadata": {
    "slideshow": {
     "slide_type": "skip"
    }
   },
   "outputs": [],
   "source": [
    "# pickle df_merged9 as df_final\n",
    "\n",
    "import pickle\n",
    "df_merged9.to_pickle('df_final')"
   ]
  },
  {
   "cell_type": "code",
   "execution_count": 87,
   "metadata": {
    "slideshow": {
     "slide_type": "skip"
    }
   },
   "outputs": [],
   "source": [
    "# load pickled dataframe back as df_merged9\n",
    "\n",
    "df_merged9 = pd.read_pickle('df_final')"
   ]
  },
  {
   "cell_type": "markdown",
   "metadata": {
    "slideshow": {
     "slide_type": "slide"
    }
   },
   "source": [
    "### Analysis Steps: \n",
    "\n",
    "    1. Set cancer_mort and all other variables as their own dataframes (outcome and predictors, respectively)\n",
    "    2. Randomly select 50 variables (set seed as 1993 for demonstration purpose) \n",
    "    3. Fit these 50 variables to a Cox proportional hazard model \n",
    "    4. Plot the hazard ratios (HR) and p-values (volcano plot) "
   ]
  },
  {
   "cell_type": "code",
   "execution_count": 164,
   "metadata": {
    "slideshow": {
     "slide_type": "subslide"
    }
   },
   "outputs": [],
   "source": [
    "#1: Set outcome and predictors dataframes\n",
    "\n",
    "outcome = df_merged9.iloc[:, -1]\n",
    "predictors = df_merged9.iloc[:, 1:-1]"
   ]
  },
  {
   "cell_type": "code",
   "execution_count": 176,
   "metadata": {
    "slideshow": {
     "slide_type": "subslide"
    }
   },
   "outputs": [
    {
     "data": {
      "text/plain": [
       "'DEPCS7 + HAG33 + HAY11E + PEPLEVEL + HAL18 + HAS17 + HAE10 + HAK11 + HAV3S + DEPSE1 + BMPWT + HFF1 + WTPXRP36 + DEPRSFLG + HFHFIPCR + HAM6S + HAT28 + VCP + MOPPCNT + HAQ3S + HAK10 + HAK9 + HAN1C + SPPTECH1 + WTPFQX6 + DEPCS67 + HAR14 + HAN5AS + HFB1 + HAN4BS + HAQ7 + WTPXRP23 + HAM7 + HAC1F + HAP12 + WTPXRP19 + DEPCS72 + WTPXRP24 + HFINTVR + WTPXRP13 + HFA12 + WTPXRP15 + HAY11A + HFE3 + DEPSE9 + HAN2ES + HFF14A + HAN2GS + BMPWTFLG + PEP1'"
      ]
     },
     "execution_count": 176,
     "metadata": {},
     "output_type": "execute_result"
    }
   ],
   "source": [
    "#2: Randomly select 50 variables from predictors dataframe\n",
    "    # Seed is set to 1993 for demonstration purpose\n",
    "        # This way, with every run, the same 50 variables are selected\n",
    "\n",
    "df_random = predictors.columns.to_series().sample(50, random_state=1993)\n",
    "random_vars = ' + '.join(list(df_random))\n",
    "\n",
    "random_vars"
   ]
  },
  {
   "cell_type": "code",
   "execution_count": 178,
   "metadata": {
    "slideshow": {
     "slide_type": "subslide"
    }
   },
   "outputs": [],
   "source": [
    "#3: Cox proportional hazard model\n",
    "\n",
    "mod = smf.phreg(\"PERMTH_INT ~ \" + random_vars,\n",
    "                predictors, status=outcome, ties=\"efron\")\n",
    "\n",
    "result = mod.fit()"
   ]
  },
  {
   "cell_type": "code",
   "execution_count": null,
   "metadata": {
    "slideshow": {
     "slide_type": "subslide"
    }
   },
   "outputs": [],
   "source": [
    "# Set hazard ratio results as 'hr' and p-value results as p-vals\n",
    "\n",
    "result.summary().tables[1]\n",
    "\n",
    "hr = result.summary().tables[1].loc[:,'HR']\n",
    "pvals = result.summary().tables[1].loc[:,'P>|t|']"
   ]
  },
  {
   "cell_type": "markdown",
   "metadata": {
    "slideshow": {
     "slide_type": "slide"
    }
   },
   "source": [
    "### Interpretation of Volcano Plot: (presented below) \n",
    "\n",
    "* Each point in the volcano plot represents the hazard ratio for one of the 50 predictor variables chosen. \n",
    "* The hazard ratios were found by fitting the predictor variables to a Cox proportional hazard model. \n",
    "* Variables are considered to be highly significant if their negative log10 p-values (y-axis) are above 10, \n",
    "  regardless of their hazard ratio (x-axis).\n",
    "      \n",
    "* As seen in the plot below, the majority (>90%) of the predictor variables have HRs centered around 1.0 and are not \n",
    "  highly significant. Having a HR of 1.0 signifies that the variable has a net neutral effect on the outcome. \n",
    "* This result is to be expected from choosing 50 random variables from a list of 450 variables that were **not** collected with the purpose of predicting cancer mortality. \n",
    "  \n",
    "#####  However, among the 50 predictor variables that were chosen with the seed 1993, the two variables that were found to be highly significant are both age-related variables. \n",
    "1. HAM7 (Age of participant): [far right]\n",
    "    * Code: 1 = 25 years or less; 2 = 26-35 years old; 3 = 36 years and older\n",
    "    * HR = 3.1170, p<0.0001\n",
    "    * Older age is strongly associated with the risk of cancer mortality. \n",
    "2. HAQ7 (Age of participant): [far left]\n",
    "    * Code: 1 = 50+ years; 2 = Under 50 years\n",
    "    * HR = 0.2791, p<0.0001\n",
    "    * Older age is strongly associated with the risk of cancer mortality. "
   ]
  },
  {
   "cell_type": "code",
   "execution_count": 183,
   "metadata": {
    "slideshow": {
     "slide_type": "subslide"
    }
   },
   "outputs": [
    {
     "data": {
      "image/png": "[encoded data removed]",
      "text/plain": [
       "<Figure size 432x288 with 1 Axes>"
      ]
     },
     "metadata": {
      "needs_background": "light"
     },
     "output_type": "display_data"
    }
   ],
   "source": [
    "# Plot hazard ratios and p-values (volcano plot)\n",
    "\n",
    "df = result.summary().tables[1]\n",
    "pvals = result.summary().tables[1].loc[:,'P>|t|']\n",
    "df = df.assign(neg_log10p=-np.log10(pvals))\n",
    "ax = df.plot(kind='scatter', x='HR', y='neg_log10p')\n",
    "ax.set_xlim()\n",
    "fig = ax.get_figure()\n",
    "fig.savefig('volc.png')"
   ]
  }
 ],
 "metadata": {
  "celltoolbar": "Slideshow",
  "kernelspec": {
   "display_name": "Python 3",
   "language": "python",
   "name": "python3"
  },
  "language_info": {
   "codemirror_mode": {
    "name": "ipython",
    "version": 3
   },
   "file_extension": ".py",
   "mimetype": "text/x-python",
   "name": "python",
   "nbconvert_exporter": "python",
   "pygments_lexer": "ipython3",
   "version": "3.7.0"
  }
 },
 "nbformat": 4,
 "nbformat_minor": 2
}
