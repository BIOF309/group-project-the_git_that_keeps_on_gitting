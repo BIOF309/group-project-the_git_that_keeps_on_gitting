{
 "cells": [
  {
   "cell_type": "markdown",
   "metadata": {
    "slideshow": {
     "slide_type": "slide"
    }
   },
   "source": [
    "# Exploring Cancer Mortality Factors\n",
    "S. Han and C. Chung On"
   ]
  },
  {
   "cell_type": "markdown",
   "metadata": {
    "slideshow": {
     "slide_type": "slide"
    }
   },
   "source": [
    "# Acknowledgements\n",
    "The purpose of this project is to replicate Dr. Martin Skarzynski's capstone project, which was completed using R, using Python. The capstone project is titled \"Exploratory Analysis of Factors Associated with Cancer Mortality in the National Health and Nutrition Examination Survey Dataset,\" which was completed in partial fulfillment of Dr. Skarzynski's MPH degree from Johns Hopkins University School of Public Health.\n",
    "\n",
    "One major modification from Dr. Skarzynski's capstone is that in this project, 50 potential predictor variables were chosen before inputing the data into a Cox Proportional Hazard Model instead of running thousands of hazard models. \n",
    "\n",
    "The capstone project, datasets used, and R codes can be found in the following link: https://github.com/marskar/nhanes."
   ]
  },
  {
   "cell_type": "markdown",
   "metadata": {
    "slideshow": {
     "slide_type": "slide"
    }
   },
   "source": [
    "## Background:\n",
    "Although cancer mortality has been declining in the U.S., cancer is still the second leading cause of death. Susceptibility to cancer can be divided into modifiable and non-modifiable risk factors. Modifiable factors include body mass index (BMI) and cigarette use while non-modifiable factors include age, sex, and race/ethnicity. Data science methods can be utilized to run cancer risk prediction models, which can help find the factors most associated with cancer mortality risk. In this study, we used Python to analyze data from the Third National Health and Nutrition Examination Survey (NHANES III) and the National Death Index (NDI) Public-Use Linked Mortality Files. The goal of our analysis was to examine these datasets to identify variables associated with cancer mortality risk. "
   ]
  },
  {
   "cell_type": "markdown",
   "metadata": {
    "slideshow": {
     "slide_type": "slide"
    }
   },
   "source": [
    "## Methods: \n",
    "NHANES III consisted of interview, medical examination, and laboratory data sets. This data was collected from 1988 to 1994 in the United States. NHANES III was linked with mortality data from the NDI death records by the National Center for Health Statistics. "
   ]
  },
  {
   "cell_type": "markdown",
   "metadata": {
    "slideshow": {
     "slide_type": "slide"
    }
   },
   "source": [
    "### Methods Step 1: \n",
    "Read NHANES III and NDI datasets into pandas dataframes: (4 in total, labeled as: mort, lab, adult, and exam)\n",
    "\n",
    "Note: When reading in csv files as pandas dataframes, python replaces blank cells (in csv) as blank strings of variable number of spaces (in dataframe). In order for python to convert all empty cells to NaN, we had to include the function 'skipinitialspace=True'. "
   ]
  },
  {
   "cell_type": "code",
   "execution_count": 1,
   "metadata": {
    "slideshow": {
     "slide_type": "skip"
    }
   },
   "outputs": [],
   "source": [
    "import pandas as pd\n",
    "from functools import reduce\n",
    "import numpy as np\n",
    "import seaborn as sns\n",
    "import matplotlib.pyplot as plt\n",
    "from sklearn.preprocessing import LabelEncoder, OneHotEncoder\n",
    "import statsmodels.formula.api as sm"
   ]
  },
  {
   "cell_type": "code",
   "execution_count": 2,
   "metadata": {
    "slideshow": {
     "slide_type": "subslide"
    }
   },
   "outputs": [],
   "source": [
    "mort = pd.read_csv(r'C:\\Users\\hans11\\Desktop\\python_project\\mort.csv', skipinitialspace=True)\n",
    "lab = pd.read_csv(r'C:\\Users\\hans11\\Desktop\\python_project\\lab.csv', skipinitialspace=True)\n",
    "adult = pd.read_csv(r'C:\\Users\\hans11\\Desktop\\python_project\\adult.csv', skipinitialspace=True, low_memory=False)\n",
    "exam = pd.read_csv(r'C:\\Users\\hans11\\Desktop\\python_project\\exam.csv', skipinitialspace=True, low_memory=False)"
   ]
  },
  {
   "cell_type": "code",
   "execution_count": 3,
   "metadata": {},
   "outputs": [
    {
     "name": "stdout",
     "output_type": "stream",
     "text": [
      "<class 'pandas.core.frame.DataFrame'>\n",
      "RangeIndex: 33994 entries, 0 to 33993\n",
      "Data columns (total 14 columns):\n",
      "SEQN            33994 non-null int64\n",
      "ELIGSTAT        33994 non-null object\n",
      "MORTSTAT        33994 non-null object\n",
      "CAUSEAVL        33994 non-null object\n",
      "UCOD_LEADING    33994 non-null object\n",
      "DIABETES        33994 non-null object\n",
      "HYPERTEN        33994 non-null object\n",
      "PERMTH_INT      19592 non-null float64\n",
      "PERMTH_EXM      17738 non-null float64\n",
      "MORTSRCE_NDI    6596 non-null object\n",
      "MORTSRCE_CMS    3102 non-null object\n",
      "MORTSRCE_SSA    5497 non-null object\n",
      "MORTSRCE_DC     2492 non-null object\n",
      "MORTSRCE_DCL    0 non-null float64\n",
      "dtypes: float64(3), int64(1), object(10)\n",
      "memory usage: 3.6+ MB\n"
     ]
    }
   ],
   "source": [
    "mort.info()"
   ]
  },
  {
   "cell_type": "markdown",
   "metadata": {
    "slideshow": {
     "slide_type": "slide"
    }
   },
   "source": [
    "### Methods Step 2: \n",
    "Clean NDI dataset (mort): \n",
    "    1) Only keep variables that are needed for study (i.e., SEQN, UCOD_LEADING, PERMTH_INT)\n",
    "            * SEQN = unique identifier \n",
    "            * UCOD_LEADING = underlying cause of death recode from UCOD_113 (Leading causes)\n",
    "            * PERMTH_INT = person months of follow-up from interview date \n",
    "    2) Remove entries with missing UCOD_LEADING or PERMTH_INT variables\n",
    "    3) Create cancer mortality variable (cancer_mort) based on whether 'malignant neoplasms (COO-C97)'\n",
    "    was recorded as cause of death (UCOD_LEADING) \n",
    "    4) Remove UCOD_LEADING from clean_mort dataframe (dataframe should not only have numerical data types) "
   ]
  },
  {
   "cell_type": "code",
   "execution_count": 9,
   "metadata": {
    "slideshow": {
     "slide_type": "subslide"
    }
   },
   "outputs": [
    {
     "name": "stdout",
     "output_type": "stream",
     "text": [
      "<class 'pandas.core.frame.DataFrame'>\n",
      "RangeIndex: 33994 entries, 0 to 33993\n",
      "Data columns (total 3 columns):\n",
      "SEQN            33994 non-null int64\n",
      "UCOD_LEADING    33994 non-null object\n",
      "PERMTH_INT      19592 non-null float64\n",
      "dtypes: float64(1), int64(1), object(1)\n",
      "memory usage: 796.8+ KB\n"
     ]
    }
   ],
   "source": [
    "#1\n",
    "\n",
    "mort_clean = mort[['SEQN', 'UCOD_LEADING', 'PERMTH_INT']]\n",
    "mort_clean.info()\n",
    "\n",
    "#33,994 entries; 3 columns"
   ]
  },
  {
   "cell_type": "code",
   "execution_count": 11,
   "metadata": {
    "slideshow": {
     "slide_type": "subslide"
    }
   },
   "outputs": [
    {
     "name": "stdout",
     "output_type": "stream",
     "text": [
      "<class 'pandas.core.frame.DataFrame'>\n",
      "Int64Index: 19592 entries, 0 to 33990\n",
      "Data columns (total 3 columns):\n",
      "SEQN            19592 non-null int64\n",
      "UCOD_LEADING    19592 non-null object\n",
      "PERMTH_INT      19592 non-null float64\n",
      "dtypes: float64(1), int64(1), object(1)\n",
      "memory usage: 612.2+ KB\n"
     ]
    }
   ],
   "source": [
    "#2: \n",
    "\n",
    "mort_clean = mort_clean[(mort_clean.UCOD_LEADING.notnull() & mort_clean.PERMTH_INT.notnull())]\n",
    "mort_clean.info()\n",
    "\n",
    "# 19,592 entries; 3 columns"
   ]
  },
  {
   "cell_type": "code",
   "execution_count": 12,
   "metadata": {
    "slideshow": {
     "slide_type": "subslide"
    }
   },
   "outputs": [
    {
     "name": "stdout",
     "output_type": "stream",
     "text": [
      "<class 'pandas.core.frame.DataFrame'>\n",
      "Int64Index: 19592 entries, 0 to 33990\n",
      "Data columns (total 4 columns):\n",
      "SEQN            19592 non-null int64\n",
      "UCOD_LEADING    19592 non-null object\n",
      "PERMTH_INT      19592 non-null float64\n",
      "cancer_mort     19592 non-null int64\n",
      "dtypes: float64(1), int64(2), object(1)\n",
      "memory usage: 765.3+ KB\n"
     ]
    }
   ],
   "source": [
    "#3: create cancer_mort variable\n",
    "\n",
    "def cancer_mort(mort_clean): \n",
    "    if mort_clean['UCOD_LEADING'] == 'Malignant neoplasm (COO-C97)':\n",
    "        return 1\n",
    "    else:\n",
    "        return 0\n",
    "mort_clean['cancer_mort'] = mort_clean.apply(cancer_mort, axis=1)\n",
    "\n",
    "mort_clean.info()"
   ]
  },
  {
   "cell_type": "code",
   "execution_count": 14,
   "metadata": {
    "slideshow": {
     "slide_type": "subslide"
    }
   },
   "outputs": [
    {
     "name": "stdout",
     "output_type": "stream",
     "text": [
      "<class 'pandas.core.frame.DataFrame'>\n",
      "Int64Index: 19592 entries, 0 to 33990\n",
      "Data columns (total 3 columns):\n",
      "SEQN           19592 non-null int64\n",
      "PERMTH_INT     19592 non-null float64\n",
      "cancer_mort    19592 non-null int64\n",
      "dtypes: float64(1), int64(2)\n",
      "memory usage: 612.2 KB\n"
     ]
    }
   ],
   "source": [
    "#4: remove UCOD_LEADING\n",
    "mort_clean = mort_clean.drop('UCOD_LEADING', axis=1)\n",
    "mort_clean.info()\n",
    "\n",
    "# 19,592 entries; 3 columns"
   ]
  },
  {
   "cell_type": "markdown",
   "metadata": {
    "slideshow": {
     "slide_type": "slide"
    }
   },
   "source": [
    "### Methods Step 3:\n",
    "Merge 4 dataframes together (df_merged) using SEQN"
   ]
  },
  {
   "cell_type": "code",
   "execution_count": 16,
   "metadata": {
    "slideshow": {
     "slide_type": "subslide"
    }
   },
   "outputs": [
    {
     "name": "stdout",
     "output_type": "stream",
     "text": [
      "<class 'pandas.core.frame.DataFrame'>\n",
      "Int64Index: 17738 entries, 0 to 17737\n",
      "Columns: 3962 entries, SEQN to PFPTECH\n",
      "dtypes: float64(3644), int64(303), object(15)\n",
      "memory usage: 536.3+ MB\n"
     ]
    }
   ],
   "source": [
    "dfs = [mort_clean, lab, adult, exam]\n",
    "df_merged = reduce(lambda left,right: pd.merge(left,right,on='SEQN'), dfs)\n",
    "df_merged.info()\n",
    "\n",
    "# df_merged = 17,738 entries; 3,962 columns "
   ]
  },
  {
   "cell_type": "markdown",
   "metadata": {
    "slideshow": {
     "slide_type": "slide"
    }
   },
   "source": [
    "### Methods Step 4: Exclusion Criteria\n",
    "The exclusion factors included participants who: \n",
    "    1) were under 18 years of age \n",
    "    2) had a self-reported cancer at baseline, and \n",
    "    3) had missing values for variables related to the study"
   ]
  },
  {
   "cell_type": "code",
   "execution_count": 17,
   "metadata": {
    "slideshow": {
     "slide_type": "subslide"
    }
   },
   "outputs": [
    {
     "data": {
      "text/plain": [
       "count    17738.000000\n",
       "mean        47.560886\n",
       "std         20.221005\n",
       "min         18.000000\n",
       "25%         30.000000\n",
       "50%         44.000000\n",
       "75%         65.000000\n",
       "max         90.000000\n",
       "Name: HSAGEIR, dtype: float64"
      ]
     },
     "execution_count": 17,
     "metadata": {},
     "output_type": "execute_result"
    }
   ],
   "source": [
    "# Exclusion Crtieria #1: \n",
    "    # HSAGEIR = age at interview\n",
    "    \n",
    "df_merged.HSAGEIR.describe()\n",
    "# Age range = 18-90 "
   ]
  },
  {
   "cell_type": "code",
   "execution_count": 23,
   "metadata": {},
   "outputs": [
    {
     "ename": "AttributeError",
     "evalue": "'NoneType' object has no attribute 'HAC1N'",
     "output_type": "error",
     "traceback": [
      "\u001b[1;31m---------------------------------------------------------------------------\u001b[0m",
      "\u001b[1;31mAttributeError\u001b[0m                            Traceback (most recent call last)",
      "\u001b[1;32m<ipython-input-23-0e3ddf4ab802>\u001b[0m in \u001b[0;36m<module>\u001b[1;34m()\u001b[0m\n\u001b[0;32m      7\u001b[0m     Only keep those who answered 2 for HAC1N or HAC1O \"\"\" \n\u001b[0;32m      8\u001b[0m \u001b[1;33m\u001b[0m\u001b[0m\n\u001b[1;32m----> 9\u001b[1;33m \u001b[0mdf_merged\u001b[0m \u001b[1;33m=\u001b[0m \u001b[0mdf_merged\u001b[0m\u001b[1;33m[\u001b[0m\u001b[1;33m(\u001b[0m\u001b[0mdf_merged\u001b[0m\u001b[1;33m.\u001b[0m\u001b[0mHAC1N\u001b[0m \u001b[1;33m==\u001b[0m \u001b[1;36m2\u001b[0m\u001b[1;33m)\u001b[0m \u001b[1;33m&\u001b[0m \u001b[1;33m(\u001b[0m\u001b[0mdf_merged\u001b[0m\u001b[1;33m.\u001b[0m\u001b[0mHAC1O\u001b[0m \u001b[1;33m==\u001b[0m \u001b[1;36m2\u001b[0m\u001b[1;33m)\u001b[0m\u001b[1;33m]\u001b[0m\u001b[1;33m\u001b[0m\u001b[0m\n\u001b[0m\u001b[0;32m     10\u001b[0m \u001b[0mdf_merged\u001b[0m\u001b[1;33m.\u001b[0m\u001b[0minfo\u001b[0m\u001b[1;33m(\u001b[0m\u001b[1;33m)\u001b[0m\u001b[1;33m\u001b[0m\u001b[0m\n\u001b[0;32m     11\u001b[0m \u001b[1;31m#df_merged = 16,404 entries; 3,962 columns\u001b[0m\u001b[1;33m\u001b[0m\u001b[1;33m\u001b[0m\u001b[0m\n",
      "\u001b[1;31mAttributeError\u001b[0m: 'NoneType' object has no attribute 'HAC1N'"
     ]
    }
   ],
   "source": [
    "\"\"\" Exclusion Criteria #2: \n",
    "    HAC1N = 'doctor ever told you had: skin cancer'\n",
    "    HAC1O = 'doctor ever told you had: other cancer'\n",
    "        1 = Yes\n",
    "        2 = No\n",
    "        9 = Don't know\n",
    "    Only keep those who answered 2 for HAC1N or HAC1O \"\"\" \n",
    "\n",
    "df_merged = df_merged[(df_merged.HAC1N == 2) & (df_merged.HAC1O == 2)]\n",
    "df_merged.info()\n",
    "#df_merged = 16,404 entries; 3,962 columns"
   ]
  },
  {
   "cell_type": "code",
   "execution_count": 19,
   "metadata": {
    "slideshow": {
     "slide_type": "skip"
    }
   },
   "outputs": [
    {
     "data": {
      "text/plain": [
       "['PHPSNTI',\n",
       " 'PHPDRTI',\n",
       " 'PHPBEST',\n",
       " 'HAJ12',\n",
       " 'HAX18A',\n",
       " 'HAX18B',\n",
       " 'HAX18C',\n",
       " 'HAZA1CC',\n",
       " 'DEPSTLC1',\n",
       " 'DEPSTLC2',\n",
       " 'DEPSTLC3',\n",
       " 'DEPSTLC4',\n",
       " 'DEPSTLC5',\n",
       " 'DEPSTLC6',\n",
       " 'SPPTIME']"
      ]
     },
     "execution_count": 19,
     "metadata": {},
     "output_type": "execute_result"
    }
   ],
   "source": [
    "# Exclusion Criteria #3: \n",
    "    # 15 variables with object type. Check to see if they are necessary for study purposes: \n",
    "\n",
    "object_list = list(df_merged.select_dtypes(include=['object']).columns)\n",
    "object_list"
   ]
  },
  {
   "cell_type": "code",
   "execution_count": 22,
   "metadata": {},
   "outputs": [
    {
     "ename": "AttributeError",
     "evalue": "'NoneType' object has no attribute 'drop'",
     "output_type": "error",
     "traceback": [
      "\u001b[1;31m---------------------------------------------------------------------------\u001b[0m",
      "\u001b[1;31mAttributeError\u001b[0m                            Traceback (most recent call last)",
      "\u001b[1;32m<ipython-input-22-5c8ac5d05809>\u001b[0m in \u001b[0;36m<module>\u001b[1;34m()\u001b[0m\n\u001b[0;32m      2\u001b[0m \u001b[1;31m# delete these 15 variables from dataframe (df_merged)\u001b[0m\u001b[1;33m\u001b[0m\u001b[1;33m\u001b[0m\u001b[0m\n\u001b[0;32m      3\u001b[0m \u001b[1;33m\u001b[0m\u001b[0m\n\u001b[1;32m----> 4\u001b[1;33m \u001b[0mdf_merged2\u001b[0m \u001b[1;33m=\u001b[0m \u001b[0mdf_merged\u001b[0m\u001b[1;33m.\u001b[0m\u001b[0mdrop\u001b[0m\u001b[1;33m(\u001b[0m\u001b[0mdf_merged\u001b[0m\u001b[1;33m.\u001b[0m\u001b[0mselect_dtypes\u001b[0m\u001b[1;33m(\u001b[0m\u001b[1;33m[\u001b[0m\u001b[1;34m'object'\u001b[0m\u001b[1;33m]\u001b[0m\u001b[1;33m)\u001b[0m\u001b[1;33m,\u001b[0m \u001b[0minplace\u001b[0m\u001b[1;33m=\u001b[0m\u001b[1;32mTrue\u001b[0m\u001b[1;33m,\u001b[0m \u001b[0maxis\u001b[0m\u001b[1;33m=\u001b[0m\u001b[1;36m1\u001b[0m\u001b[1;33m)\u001b[0m\u001b[1;33m\u001b[0m\u001b[0m\n\u001b[0m",
      "\u001b[1;31mAttributeError\u001b[0m: 'NoneType' object has no attribute 'drop'"
     ]
    }
   ],
   "source": [
    "# all 15 variables that are object type are not necessary for study purposes\n",
    "# delete these 15 variables from dataframe (df_merged)\n",
    "\n",
    "df_merged2 = df_merged.drop(df_merged.select_dtypes(['object']), inplace=True, axis=1)"
   ]
  },
  {
   "cell_type": "code",
   "execution_count": null,
   "metadata": {},
   "outputs": [],
   "source": []
  }
 ],
 "metadata": {
  "celltoolbar": "Slideshow",
  "kernelspec": {
   "display_name": "Python 3",
   "language": "python",
   "name": "python3"
  },
  "language_info": {
   "codemirror_mode": {
    "name": "ipython",
    "version": 3
   },
   "file_extension": ".py",
   "mimetype": "text/x-python",
   "name": "python",
   "nbconvert_exporter": "python",
   "pygments_lexer": "ipython3",
   "version": "3.7.0"
  }
 },
 "nbformat": 4,
 "nbformat_minor": 2
}
