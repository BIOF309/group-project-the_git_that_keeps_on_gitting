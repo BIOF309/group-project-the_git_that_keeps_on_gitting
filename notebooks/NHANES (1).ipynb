{
 "cells": [
  {
   "cell_type": "code",
   "execution_count": 22,
   "metadata": {},
   "outputs": [],
   "source": [
    "import pandas as pd\n",
    "from functools import reduce"
   ]
  },
  {
   "cell_type": "code",
   "execution_count": 39,
   "metadata": {},
   "outputs": [],
   "source": [
    "# importing NHANES files as dataframes\n",
    "mort = pd.read_csv(r'C:\\Users\\hans11\\Desktop\\python_project\\mort.csv')\n",
    "lab = pd.read_csv(r'C:\\Users\\hans11\\Desktop\\python_project\\lab.csv')\n",
    "adult = pd.read_csv(r'C:\\Users\\hans11\\Desktop\\python_project\\adult.csv', low_memory=False)\n",
    "exam = pd.read_csv(r'C:\\Users\\hans11\\Desktop\\python_project\\exam.csv', low_memory=False)"
   ]
  },
  {
   "cell_type": "code",
   "execution_count": 41,
   "metadata": {},
   "outputs": [],
   "source": [
    "# clean NHANES mortality (mort) dataframe\n"
   ]
  },
  {
   "cell_type": "code",
   "execution_count": 25,
   "metadata": {},
   "outputs": [],
   "source": [
    "# merging NHANES files as a single dataframe (\"df_final\")\n",
    "dfs = [mort, lab, adult, exam]\n",
    "df_final = reduce(lambda left,right: pd.merge(left,right,on='SEQN'), dfs)"
   ]
  },
  {
   "cell_type": "code",
   "execution_count": 42,
   "metadata": {},
   "outputs": [],
   "source": [
    "# exclude participants <18 years old\n",
    "# HSAGEIR = Age at interview\n"
   ]
  },
  {
   "cell_type": "code",
   "execution_count": null,
   "metadata": {},
   "outputs": [],
   "source": []
  }
 ],
 "metadata": {
  "kernelspec": {
   "display_name": "Python 3",
   "language": "python",
   "name": "python3"
  },
  "language_info": {
   "codemirror_mode": {
    "name": "ipython",
    "version": 3
   },
   "file_extension": ".py",
   "mimetype": "text/x-python",
   "name": "python",
   "nbconvert_exporter": "python",
   "pygments_lexer": "ipython3",
   "version": "3.6.5"
  }
 },
 "nbformat": 4,
 "nbformat_minor": 2
}
